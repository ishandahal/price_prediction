{
 "cells": [
  {
   "cell_type": "markdown",
   "id": "criminal-married",
   "metadata": {},
   "source": [
    "Using term frequency / inverse document frequency (tf-idf) on ```name``` feature to improve model performance "
   ]
  },
  {
   "cell_type": "code",
   "execution_count": 1,
   "id": "hidden-integer",
   "metadata": {},
   "outputs": [],
   "source": [
    "import numpy as np\n",
    "import pandas as pd\n",
    "import matplotlib.pyplot as plt\n",
    "import seaborn as sns\n",
    "import plotly.express as px\n",
    "import folium\n",
    "from folium.plugins import HeatMap\n",
    "from wordcloud import WordCloud, ImageColorGenerator\n",
    "from sklearn.preprocessing import LabelEncoder\n",
    "from sklearn.preprocessing import OneHotEncoder\n",
    "from sklearn.model_selection import train_test_split\n",
    "from sklearn.preprocessing import StandardScaler\n",
    "from sklearn.metrics import r2_score"
   ]
  },
  {
   "cell_type": "code",
   "execution_count": 2,
   "id": "adjusted-fleece",
   "metadata": {},
   "outputs": [
    {
     "data": {
      "text/html": [
       "<div>\n",
       "<style scoped>\n",
       "    .dataframe tbody tr th:only-of-type {\n",
       "        vertical-align: middle;\n",
       "    }\n",
       "\n",
       "    .dataframe tbody tr th {\n",
       "        vertical-align: top;\n",
       "    }\n",
       "\n",
       "    .dataframe thead th {\n",
       "        text-align: right;\n",
       "    }\n",
       "</style>\n",
       "<table border=\"1\" class=\"dataframe\">\n",
       "  <thead>\n",
       "    <tr style=\"text-align: right;\">\n",
       "      <th></th>\n",
       "      <th>id</th>\n",
       "      <th>name</th>\n",
       "      <th>host_id</th>\n",
       "      <th>host_name</th>\n",
       "      <th>neighbourhood_group</th>\n",
       "      <th>neighbourhood</th>\n",
       "      <th>latitude</th>\n",
       "      <th>longitude</th>\n",
       "      <th>room_type</th>\n",
       "      <th>price</th>\n",
       "      <th>minimum_nights</th>\n",
       "      <th>number_of_reviews</th>\n",
       "      <th>last_review</th>\n",
       "      <th>reviews_per_month</th>\n",
       "      <th>calculated_host_listings_count</th>\n",
       "      <th>availability_365</th>\n",
       "    </tr>\n",
       "  </thead>\n",
       "  <tbody>\n",
       "    <tr>\n",
       "      <th>0</th>\n",
       "      <td>2539</td>\n",
       "      <td>Clean &amp; quiet apt home by the park</td>\n",
       "      <td>2787</td>\n",
       "      <td>John</td>\n",
       "      <td>Brooklyn</td>\n",
       "      <td>Kensington</td>\n",
       "      <td>40.64749</td>\n",
       "      <td>-73.97237</td>\n",
       "      <td>Private room</td>\n",
       "      <td>149</td>\n",
       "      <td>1</td>\n",
       "      <td>9</td>\n",
       "      <td>2018-10-19</td>\n",
       "      <td>0.21</td>\n",
       "      <td>6</td>\n",
       "      <td>365</td>\n",
       "    </tr>\n",
       "    <tr>\n",
       "      <th>1</th>\n",
       "      <td>2595</td>\n",
       "      <td>Skylit Midtown Castle</td>\n",
       "      <td>2845</td>\n",
       "      <td>Jennifer</td>\n",
       "      <td>Manhattan</td>\n",
       "      <td>Midtown</td>\n",
       "      <td>40.75362</td>\n",
       "      <td>-73.98377</td>\n",
       "      <td>Entire home/apt</td>\n",
       "      <td>225</td>\n",
       "      <td>1</td>\n",
       "      <td>45</td>\n",
       "      <td>2019-05-21</td>\n",
       "      <td>0.38</td>\n",
       "      <td>2</td>\n",
       "      <td>355</td>\n",
       "    </tr>\n",
       "    <tr>\n",
       "      <th>2</th>\n",
       "      <td>3647</td>\n",
       "      <td>THE VILLAGE OF HARLEM....NEW YORK !</td>\n",
       "      <td>4632</td>\n",
       "      <td>Elisabeth</td>\n",
       "      <td>Manhattan</td>\n",
       "      <td>Harlem</td>\n",
       "      <td>40.80902</td>\n",
       "      <td>-73.94190</td>\n",
       "      <td>Private room</td>\n",
       "      <td>150</td>\n",
       "      <td>3</td>\n",
       "      <td>0</td>\n",
       "      <td>NaN</td>\n",
       "      <td>NaN</td>\n",
       "      <td>1</td>\n",
       "      <td>365</td>\n",
       "    </tr>\n",
       "    <tr>\n",
       "      <th>3</th>\n",
       "      <td>3831</td>\n",
       "      <td>Cozy Entire Floor of Brownstone</td>\n",
       "      <td>4869</td>\n",
       "      <td>LisaRoxanne</td>\n",
       "      <td>Brooklyn</td>\n",
       "      <td>Clinton Hill</td>\n",
       "      <td>40.68514</td>\n",
       "      <td>-73.95976</td>\n",
       "      <td>Entire home/apt</td>\n",
       "      <td>89</td>\n",
       "      <td>1</td>\n",
       "      <td>270</td>\n",
       "      <td>2019-07-05</td>\n",
       "      <td>4.64</td>\n",
       "      <td>1</td>\n",
       "      <td>194</td>\n",
       "    </tr>\n",
       "    <tr>\n",
       "      <th>4</th>\n",
       "      <td>5022</td>\n",
       "      <td>Entire Apt: Spacious Studio/Loft by central park</td>\n",
       "      <td>7192</td>\n",
       "      <td>Laura</td>\n",
       "      <td>Manhattan</td>\n",
       "      <td>East Harlem</td>\n",
       "      <td>40.79851</td>\n",
       "      <td>-73.94399</td>\n",
       "      <td>Entire home/apt</td>\n",
       "      <td>80</td>\n",
       "      <td>10</td>\n",
       "      <td>9</td>\n",
       "      <td>2018-11-19</td>\n",
       "      <td>0.10</td>\n",
       "      <td>1</td>\n",
       "      <td>0</td>\n",
       "    </tr>\n",
       "  </tbody>\n",
       "</table>\n",
       "</div>"
      ],
      "text/plain": [
       "     id                                              name  host_id  \\\n",
       "0  2539                Clean & quiet apt home by the park     2787   \n",
       "1  2595                             Skylit Midtown Castle     2845   \n",
       "2  3647               THE VILLAGE OF HARLEM....NEW YORK !     4632   \n",
       "3  3831                   Cozy Entire Floor of Brownstone     4869   \n",
       "4  5022  Entire Apt: Spacious Studio/Loft by central park     7192   \n",
       "\n",
       "     host_name neighbourhood_group neighbourhood  latitude  longitude  \\\n",
       "0         John            Brooklyn    Kensington  40.64749  -73.97237   \n",
       "1     Jennifer           Manhattan       Midtown  40.75362  -73.98377   \n",
       "2    Elisabeth           Manhattan        Harlem  40.80902  -73.94190   \n",
       "3  LisaRoxanne            Brooklyn  Clinton Hill  40.68514  -73.95976   \n",
       "4        Laura           Manhattan   East Harlem  40.79851  -73.94399   \n",
       "\n",
       "         room_type  price  minimum_nights  number_of_reviews last_review  \\\n",
       "0     Private room    149               1                  9  2018-10-19   \n",
       "1  Entire home/apt    225               1                 45  2019-05-21   \n",
       "2     Private room    150               3                  0         NaN   \n",
       "3  Entire home/apt     89               1                270  2019-07-05   \n",
       "4  Entire home/apt     80              10                  9  2018-11-19   \n",
       "\n",
       "   reviews_per_month  calculated_host_listings_count  availability_365  \n",
       "0               0.21                               6               365  \n",
       "1               0.38                               2               355  \n",
       "2                NaN                               1               365  \n",
       "3               4.64                               1               194  \n",
       "4               0.10                               1                 0  "
      ]
     },
     "execution_count": 2,
     "metadata": {},
     "output_type": "execute_result"
    }
   ],
   "source": [
    "# getting the dataset set (.csv)\n",
    "path = 'data/AB_NYC_2019.csv'\n",
    "df = pd.read_csv(path)\n",
    "df.head()"
   ]
  },
  {
   "cell_type": "code",
   "execution_count": 3,
   "id": "alleged-permission",
   "metadata": {},
   "outputs": [],
   "source": [
    "## drop columns that are of minimal use\n",
    "\n",
    "X = df.copy()\n",
    "X.drop(columns=['id', \"name\", 'host_id', 'host_name', 'last_review'], inplace=True, axis=1)\n",
    "X['reviews_per_month'] = X['reviews_per_month'].replace(np.nan, 0)"
   ]
  },
  {
   "cell_type": "code",
   "execution_count": 4,
   "id": "floating-olympus",
   "metadata": {},
   "outputs": [],
   "source": [
    "# seperating the data to target variable\n",
    "\n",
    "y = df['price']\n",
    "X.drop(labels='price', axis=1, inplace=True);"
   ]
  },
  {
   "cell_type": "code",
   "execution_count": 5,
   "id": "annoying-receipt",
   "metadata": {},
   "outputs": [
    {
     "data": {
      "text/plain": [
       "(48895, 233)"
      ]
     },
     "execution_count": 5,
     "metadata": {},
     "output_type": "execute_result"
    }
   ],
   "source": [
    "# handling the categorical variables\n",
    "\n",
    "X = pd.get_dummies(X, drop_first=True)\n",
    "X.shape"
   ]
  },
  {
   "cell_type": "code",
   "execution_count": 13,
   "id": "reduced-dispute",
   "metadata": {},
   "outputs": [],
   "source": [
    "df['name'].fillna(value='-missing-', inplace=True)"
   ]
  },
  {
   "cell_type": "code",
   "execution_count": 15,
   "id": "contained-victorian",
   "metadata": {},
   "outputs": [],
   "source": [
    "## import tf-idf methods\n",
    "\n",
    "from sklearn.feature_extraction.text import TfidfTransformer, TfidfVectorizer"
   ]
  },
  {
   "cell_type": "code",
   "execution_count": 16,
   "id": "invalid-formula",
   "metadata": {},
   "outputs": [],
   "source": [
    "dataset = [\n",
    "    \"I enjoy reading about Machine Learning and Machine Learning is my PhD subject\",\n",
    "    \"I would enjoy a walk in the park\",\n",
    "    \"I was reading in the library\"\n",
    "]"
   ]
  },
  {
   "cell_type": "code",
   "execution_count": 25,
   "id": "injured-ebony",
   "metadata": {},
   "outputs": [
    {
     "data": {
      "text/plain": [
       "(17, 1)"
      ]
     },
     "execution_count": 25,
     "metadata": {},
     "output_type": "execute_result"
    }
   ],
   "source": [
    "tfidf_vectorizer = TfidfVectorizer()\n",
    "tfidf = tfidf_vectorizer.fit_transform(dataset)\n",
    "\n",
    "dataframe = pd.DataFrame(tfidf[0].T.todense(), index=tfidf_vectorizer.get_feature_names(), columns=['tfidf'])\n",
    "dataframe.sort_values('tfidf', ascending=False).shape"
   ]
  },
  {
   "cell_type": "code",
   "execution_count": 26,
   "id": "secure-belle",
   "metadata": {},
   "outputs": [
    {
     "data": {
      "text/plain": [
       "(17, 1)"
      ]
     },
     "execution_count": 26,
     "metadata": {},
     "output_type": "execute_result"
    }
   ],
   "source": [
    "dataframe.shape"
   ]
  },
  {
   "cell_type": "code",
   "execution_count": 47,
   "id": "second-recipe",
   "metadata": {},
   "outputs": [],
   "source": [
    "import nltk\n",
    "from nltk.stem import PorterStemmer\n",
    "from nltk.corpus import stopwords\n",
    "stop = stopwords.words('english')"
   ]
  },
  {
   "cell_type": "code",
   "execution_count": 48,
   "id": "boolean-estimate",
   "metadata": {},
   "outputs": [
    {
     "name": "stderr",
     "output_type": "stream",
     "text": [
      "<ipython-input-48-34bb587854dc>:2: FutureWarning: The default value of regex will change from True to False in a future version.\n",
      "  df['preprocessed_text'] = df['name'].str.replace('[^\\w\\s]', '')\n"
     ]
    },
    {
     "data": {
      "text/plain": [
       "0                    clean quiet apt home park\n",
       "1                         skylit midtown castl\n",
       "2                 the villag of harlemnew york\n",
       "3                   cozi entir floor brownston\n",
       "4    entir apt spaciou studioloft central park\n",
       "5         larg cozi 1 br apart in midtown east\n",
       "6                                blissartsspac\n",
       "7                  larg furnish room near bway\n",
       "8             cozi clean guest room famili apt\n",
       "9             cute cozi lower east side 1 bdrm\n",
       "Name: preprocessed_text, dtype: object"
      ]
     },
     "execution_count": 48,
     "metadata": {},
     "output_type": "execute_result"
    }
   ],
   "source": [
    "# remove punctuations \n",
    "df['preprocessed_text'] = df['name'].str.replace('[^\\w\\s]', '')\n",
    "\n",
    "# remove stop words (words that do not carry much meaning)\n",
    "df['preprocessed_text'] = df['preprocessed_text'].apply(lambda x: \" \".join(x for x in x.split() if x not in stop))\n",
    "\n",
    "# convert all text to lower case\n",
    "df['preprocessed_text'] = df['preprocessed_text'].apply(lambda x: \" \".join(x.lower() for x in x.split()))\n",
    "\n",
    "# stemming to reduce repeat words\n",
    "stemmer = PorterStemmer()\n",
    "df['preprocessed_text'] = df['preprocessed_text'].apply(lambda x: \" \".join([stemmer.stem(word) for word in x.split()]))\n",
    "\n",
    "df['preprocessed_text'].head(10)"
   ]
  },
  {
   "cell_type": "code",
   "execution_count": 49,
   "id": "bacterial-specialist",
   "metadata": {},
   "outputs": [
    {
     "data": {
      "text/plain": [
       "0                  Clean & quiet apt home by the park\n",
       "1                               Skylit Midtown Castle\n",
       "2                 THE VILLAGE OF HARLEM....NEW YORK !\n",
       "3                     Cozy Entire Floor of Brownstone\n",
       "4    Entire Apt: Spacious Studio/Loft by central park\n",
       "5           Large Cozy 1 BR Apartment In Midtown East\n",
       "6                                     BlissArtsSpace!\n",
       "7                    Large Furnished Room Near B'way \n",
       "8                  Cozy Clean Guest Room - Family Apt\n",
       "9                  Cute & Cozy Lower East Side 1 bdrm\n",
       "Name: name, dtype: object"
      ]
     },
     "execution_count": 49,
     "metadata": {},
     "output_type": "execute_result"
    }
   ],
   "source": [
    "df['name'].head(10)"
   ]
  },
  {
   "cell_type": "code",
   "execution_count": 64,
   "id": "organizational-tobago",
   "metadata": {},
   "outputs": [],
   "source": [
    "## using calculate term frequency and inverse document frequency (tf-idf)\n",
    "\n",
    "tfidf_df = TfidfVectorizer(max_features=500, lowercase=True, analyzer='word', stop_words='english', ngram_range=(1,1))\n",
    "\n",
    "df_tfidf = tfidf_df.fit_transform(df['preprocessed_text'])"
   ]
  },
  {
   "cell_type": "code",
   "execution_count": 65,
   "id": "consecutive-crest",
   "metadata": {},
   "outputs": [
    {
     "data": {
      "text/plain": [
       "<48895x500 sparse matrix of type '<class 'numpy.float64'>'\n",
       "\twith 202268 stored elements in Compressed Sparse Row format>"
      ]
     },
     "execution_count": 65,
     "metadata": {},
     "output_type": "execute_result"
    }
   ],
   "source": [
    "# returns a sparse matrix\n",
    "df_tfidf"
   ]
  },
  {
   "cell_type": "code",
   "execution_count": 67,
   "id": "confident-chain",
   "metadata": {},
   "outputs": [],
   "source": [
    "# converting sparse matrix to dense matrix and pandas dataframe\n",
    "\n",
    "df_tfidf = pd.DataFrame(df_tfidf.todense())"
   ]
  },
  {
   "cell_type": "code",
   "execution_count": 71,
   "id": "opening-tiffany",
   "metadata": {},
   "outputs": [
    {
     "data": {
      "text/plain": [
       "((48895, 233), (48895, 500))"
      ]
     },
     "execution_count": 71,
     "metadata": {},
     "output_type": "execute_result"
    }
   ],
   "source": [
    "# num of rows match \n",
    "X.shape, df_tfidf.shape"
   ]
  },
  {
   "cell_type": "code",
   "execution_count": 72,
   "id": "valued-grove",
   "metadata": {},
   "outputs": [],
   "source": [
    "# concatenating the dataframe\n",
    "merged_df = pd.concat([X, df_tfidf], axis=1)"
   ]
  },
  {
   "cell_type": "code",
   "execution_count": 73,
   "id": "critical-garlic",
   "metadata": {},
   "outputs": [
    {
     "data": {
      "text/plain": [
       "(48895, 733)"
      ]
     },
     "execution_count": 73,
     "metadata": {},
     "output_type": "execute_result"
    }
   ],
   "source": [
    "# shape of the merged dataframes\n",
    "merged_df.shape"
   ]
  },
  {
   "cell_type": "code",
   "execution_count": 75,
   "id": "catholic-likelihood",
   "metadata": {},
   "outputs": [
    {
     "name": "stdout",
     "output_type": "stream",
     "text": [
      "(10000, 733) (10000,)\n"
     ]
    }
   ],
   "source": [
    "# we have a large number of rows so let's create a mini dataset\n",
    "\n",
    "mini_df = merged_df.iloc[:10000, :]\n",
    "mini_y = y[:10000]\n",
    "print(mini_df.shape, mini_y.shape)"
   ]
  },
  {
   "cell_type": "code",
   "execution_count": 77,
   "id": "closed-delight",
   "metadata": {},
   "outputs": [
    {
     "name": "stdout",
     "output_type": "stream",
     "text": [
      "(9000, 733) (1000, 733) (9000,) (1000,)\n"
     ]
    }
   ],
   "source": [
    "# splitting the dataset\n",
    "\n",
    "X_train, X_test, y_train, y_test = train_test_split(mini_df, mini_y, test_size=0.1)\n",
    "\n",
    "# checking the dimensions\n",
    "print(X_train.shape, X_test.shape, y_train.shape, y_test.shape)"
   ]
  },
  {
   "cell_type": "code",
   "execution_count": 83,
   "id": "coated-chinese",
   "metadata": {},
   "outputs": [],
   "source": [
    "from sklearn.ensemble import RandomForestRegressor\n",
    "from sklearn.model_selection import cross_val_score"
   ]
  },
  {
   "cell_type": "code",
   "execution_count": 80,
   "id": "unable-alpha",
   "metadata": {},
   "outputs": [
    {
     "data": {
      "text/plain": [
       "RandomForestRegressor()"
      ]
     },
     "execution_count": 80,
     "metadata": {},
     "output_type": "execute_result"
    }
   ],
   "source": [
    "# Initialize the model\n",
    "rf = RandomForestRegressor()\n",
    "\n",
    "# train the model\n",
    "rf.fit(X_train, y_train)"
   ]
  },
  {
   "cell_type": "code",
   "execution_count": 82,
   "id": "unnecessary-acting",
   "metadata": {},
   "outputs": [
    {
     "data": {
      "text/plain": [
       "0.867311969114265"
      ]
     },
     "execution_count": 82,
     "metadata": {},
     "output_type": "execute_result"
    }
   ],
   "source": [
    "## doing good on the training set as expected\n",
    "rf.score(X_train, y_train)"
   ]
  },
  {
   "cell_type": "code",
   "execution_count": 86,
   "id": "delayed-horizontal",
   "metadata": {},
   "outputs": [
    {
     "data": {
      "text/plain": [
       "array([-0.09099835,  0.01618483, -0.00669148, -0.15040398, -0.06197971])"
      ]
     },
     "execution_count": 86,
     "metadata": {},
     "output_type": "execute_result"
    }
   ],
   "source": [
    "## Not good performance from the cross validation scores\n",
    "cross_val_score(rf, X_train, y_train, n_jobs=-1)"
   ]
  },
  {
   "cell_type": "code",
   "execution_count": 91,
   "id": "reasonable-renewal",
   "metadata": {},
   "outputs": [
    {
     "name": "stdout",
     "output_type": "stream",
     "text": [
      "Average cross validation score across all 5 folds:\n"
     ]
    },
    {
     "data": {
      "text/plain": [
       "-0.058777738"
      ]
     },
     "execution_count": 91,
     "metadata": {},
     "output_type": "execute_result"
    }
   ],
   "source": [
    "\n",
    "print(\"Average cross validation score across all 5 folds:\")\n",
    "np.mean([-0.09099835,  0.01618483, -0.00669148, -0.15040398, -0.06197971])"
   ]
  },
  {
   "cell_type": "code",
   "execution_count": 94,
   "id": "disturbed-arbor",
   "metadata": {},
   "outputs": [
    {
     "data": {
      "text/plain": [
       "-0.30215338652714663"
      ]
     },
     "execution_count": 94,
     "metadata": {},
     "output_type": "execute_result"
    }
   ],
   "source": [
    "# Scoring on the test test is quite aweful\n",
    "\n",
    "rf.score(X_test, y_test)"
   ]
  },
  {
   "cell_type": "code",
   "execution_count": 95,
   "id": "lasting-template",
   "metadata": {},
   "outputs": [],
   "source": [
    "## Let's try gradient boosting to see if we can sense any life in tree based models\n",
    "\n",
    "from sklearn.ensemble import GradientBoostingRegressor"
   ]
  },
  {
   "cell_type": "code",
   "execution_count": 97,
   "id": "comfortable-remedy",
   "metadata": {},
   "outputs": [],
   "source": [
    "# initialize the model\n",
    "\n",
    "gb_model = GradientBoostingRegressor()"
   ]
  },
  {
   "cell_type": "code",
   "execution_count": 98,
   "id": "complete-teens",
   "metadata": {},
   "outputs": [],
   "source": [
    "# cross validation score for gradient boosting\n",
    "\n",
    "cv_score_gb = cross_val_score(gb_model, X_train, y_train)"
   ]
  },
  {
   "cell_type": "code",
   "execution_count": 100,
   "id": "technical-plaza",
   "metadata": {},
   "outputs": [
    {
     "name": "stdout",
     "output_type": "stream",
     "text": [
      "Cross validation score for gradient boosting: -0.1344664927477363\n"
     ]
    }
   ],
   "source": [
    "## cross validation score for gradient boosting \n",
    "\n",
    "print('Cross validation score for gradient boosting:', np.mean(cv_score_gb))"
   ]
  },
  {
   "cell_type": "code",
   "execution_count": null,
   "id": "valued-currency",
   "metadata": {},
   "outputs": [],
   "source": []
  },
  {
   "cell_type": "code",
   "execution_count": null,
   "id": "planned-tampa",
   "metadata": {},
   "outputs": [],
   "source": []
  }
 ],
 "metadata": {
  "kernelspec": {
   "display_name": "Python 3",
   "language": "python",
   "name": "python3"
  },
  "language_info": {
   "codemirror_mode": {
    "name": "ipython",
    "version": 3
   },
   "file_extension": ".py",
   "mimetype": "text/x-python",
   "name": "python",
   "nbconvert_exporter": "python",
   "pygments_lexer": "ipython3",
   "version": "3.8.5"
  }
 },
 "nbformat": 4,
 "nbformat_minor": 5
}
